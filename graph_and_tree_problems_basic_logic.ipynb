{
 "cells": [
  {
   "cell_type": "markdown",
   "id": "63fd7bd3",
   "metadata": {},
   "source": [
    "# Graph & Tree Problems in Python\n"
   ]
  },
  {
   "cell_type": "markdown",
   "id": "ef95ee7b",
   "metadata": {},
   "source": [
    "## 1. Find the degree of each vertex and sort the dictionary by degree"
   ]
  },
  {
   "cell_type": "markdown",
   "id": "96a6de8e",
   "metadata": {},
   "source": [
    "### 🔰 Example Run\n",
    "Here's a simple example using both edge list and adjacency list:"
   ]
  },
  {
   "cell_type": "code",
   "execution_count": 7,
   "id": "82798dc0",
   "metadata": {},
   "outputs": [],
   "source": [
    "graph = {\n",
    "    0: [1, 2],  # Node 0 is connected to nodes 1 and 2\n",
    "    1: [0, 3],  # Node 1 is connected to nodes 0 and 3\n",
    "    2: [0, 3],  # Node 2 is connected to nodes 0 and 3\n",
    "    3: [1, 2]   # Node 3 is connected to nodes 1 and 2\n",
    "}"
   ]
  },
  {
   "cell_type": "code",
   "execution_count": 8,
   "id": "6ec571b6",
   "metadata": {},
   "outputs": [
    {
     "name": "stdout",
     "output_type": "stream",
     "text": [
      "Degree of each vertex: {0: 2, 1: 2, 2: 2, 3: 2}\n",
      "Sorted by degree: {0: 2, 1: 2, 2: 2, 3: 2}\n"
     ]
    }
   ],
   "source": [
    "# Sample graph (undirected) represented in adjacency list format\n",
    "graph = {\n",
    "    0: [1, 2],  # Node 0 is connected to nodes 1 and 2\n",
    "    1: [0, 3],  # Node 1 is connected to nodes 0 and 3\n",
    "    2: [0, 3],  # Node 2 is connected to nodes 0 and 3\n",
    "    3: [1, 2]   # Node 3 is connected to nodes 1 and 2\n",
    "}\n",
    "\n",
    "# Initialize an empty dictionary to store the degree of each node\n",
    "degree = {}\n",
    "\n",
    "# Iterate through each node in the graph\n",
    "for node in graph:\n",
    "    # The degree of a node is the number of its neighbors\n",
    "    degree[node] = len(graph[node])\n",
    "\n",
    "# Sort the degree dictionary by degree (from smallest to largest)\n",
    "# The sorted function returns a list of tuples (key, value) sorted by the value\n",
    "sorted_degree = dict(sorted(degree.items()))\n",
    "\n",
    "# Print the degree of each vertex in the graph\n",
    "print(\"Degree of each vertex:\", degree)\n",
    "\n",
    "# Print the sorted degrees of the vertices\n",
    "print(\"Sorted by degree:\", sorted_degree)"
   ]
  },
  {
   "cell_type": "markdown",
   "id": "f73504af",
   "metadata": {},
   "source": [
    "## 2. Convert between Adjacency List, Matrix, and Edge List"
   ]
  },
  {
   "cell_type": "markdown",
   "id": "7bcbc114",
   "metadata": {},
   "source": [
    "### 🔰 Example Run\n",
    "Here's a simple example using both edge list and adjacency list:"
   ]
  },
  {
   "cell_type": "code",
   "execution_count": 9,
   "id": "8581a631",
   "metadata": {},
   "outputs": [],
   "source": [
    "edge_list = [\n",
    "    (0, 1),\n",
    "    (0, 2),\n",
    "    (1, 2),\n",
    "    (1, 3),\n",
    "    (3, 4)\n",
    "]\n",
    "adj_list = {\n",
    "    0: [1, 2],\n",
    "    1: [0, 2, 3],\n",
    "    2: [0, 1],\n",
    "    3: [1, 4],\n",
    "    4: [3]\n",
    "}"
   ]
  },
  {
   "cell_type": "code",
   "execution_count": 10,
   "id": "8a41f885",
   "metadata": {},
   "outputs": [],
   "source": [
    "# Function to convert an adjacency list to an adjacency matrix\n",
    "def list_to_matrix(adj_list):\n",
    "    # Get the number of nodes in the adjacency list\n",
    "    n = len(adj_list)\n",
    "    \n",
    "    # Initialize an n x n matrix filled with zeros\n",
    "    matrix = [[0]*n for _ in range(n)]\n",
    "    \n",
    "    # Iterate through each node in the adjacency list\n",
    "    for node in adj_list:\n",
    "        # For each neighbor of the current node, set the corresponding matrix entry to 1\n",
    "        for neighbor in adj_list[node]:\n",
    "            matrix[node][neighbor] = 1\n",
    "            \n",
    "    return matrix  # Return the constructed adjacency matrix\n",
    "\n",
    "# Function to convert an adjacency list to an edge list\n",
    "def list_to_edges(adj_list):\n",
    "    edges = []  # Initialize an empty list to store edges\n",
    "    # Iterate through each node in the adjacency list\n",
    "    for node in adj_list:\n",
    "        # For each neighbor of the current node\n",
    "        for neighbor in adj_list[node]:\n",
    "            # Check if the edge (neighbor, node) is not already in the list to avoid duplicates\n",
    "            if (neighbor, node) not in edges:\n",
    "                edges.append((node, neighbor))  # Add the edge to the list\n",
    "    return edges  # Return the constructed edge list\n",
    "\n",
    "# Function to convert an edge list to an adjacency list\n",
    "def edges_to_list(edge_list):\n",
    "    adj_list = {}  # Initialize an empty dictionary for the adjacency list\n",
    "    # Iterate through each edge in the edge list\n",
    "    for u, v in edge_list:\n",
    "        # Use setdefault to add v to the list of u and u to the list of v\n",
    "        adj_list.setdefault(u, []).append(v)\n",
    "        adj_list.setdefault(v, []).append(u)\n",
    "    return adj_list  # Return the constructed adjacency list\n",
    "\n",
    "# Function to convert an adjacency matrix to an adjacency list\n",
    "def matrix_to_list(matrix):\n",
    "    adj_list = {}  # Initialize an empty dictionary for the adjacency list\n",
    "    # Iterate through each row of the matrix\n",
    "    for i in range(len(matrix)):\n",
    "        adj_list[i] = []  # Initialize an empty list for the current node\n",
    "        # Iterate through each column of the current row\n",
    "        for j in range(len(matrix[i])):\n",
    "            # If there is an edge (indicated by a 1 in the matrix), add j to the list of i\n",
    "            if matrix[i][j] == 1:\n",
    "                adj_list[i].append(j)\n",
    "    return adj_list  # Return the constructed adjacency list"
   ]
  },
  {
   "cell_type": "markdown",
   "id": "f3effb78",
   "metadata": {},
   "source": [
    "## 3. Check if two vertices are adjacent"
   ]
  },
  {
   "cell_type": "markdown",
   "id": "5c1d6a61",
   "metadata": {},
   "source": [
    "### 🔰 Example Run\n",
    "Here's a simple example using both edge list and adjacency list:"
   ]
  },
  {
   "cell_type": "code",
   "execution_count": 11,
   "id": "a1ddd5b3",
   "metadata": {},
   "outputs": [
    {
     "name": "stdout",
     "output_type": "stream",
     "text": [
      "Are nodes 0 and 1 adjacent? True\n"
     ]
    }
   ],
   "source": [
    "# Function to check if two nodes are adjacent in a graph represented as an adjacency list\n",
    "def are_adjacent(graph, u, v):\n",
    "    # Check if node v is in the list of neighbors for node u\n",
    "    return v in graph[u]\n",
    "\n",
    "# Example usage\n",
    "node1 = 0  # First node to check\n",
    "node2 = 1  # Second node to check\n",
    "\n",
    "# Print whether the two nodes are adjacent\n",
    "print(\"Are nodes\", node1, \"and\", node2, \"adjacent?\", are_adjacent(graph, node1, node2))"
   ]
  },
  {
   "cell_type": "markdown",
   "id": "761e0308",
   "metadata": {},
   "source": [
    "## 4. Check if a graph is complete"
   ]
  },
  {
   "cell_type": "markdown",
   "id": "ca0e36da",
   "metadata": {},
   "source": [
    "### 🔰 Example Run\n",
    "Here's a simple example using both edge list and adjacency list:"
   ]
  },
  {
   "cell_type": "code",
   "execution_count": 12,
   "id": "d929ddd8",
   "metadata": {},
   "outputs": [
    {
     "name": "stdout",
     "output_type": "stream",
     "text": [
      "Adjacency List:\n",
      "Is connected_graph_adjlist connected? True\n",
      "Is disconnected_graph_adjlist connected? False\n",
      "\n",
      "Adjacency Matrix:\n",
      "Is connected_graph_adjmat connected? True\n",
      "Is disconnected_graph_adjmat connected? False\n"
     ]
    }
   ],
   "source": [
    "from collections import deque\n",
    "\n",
    "# Connectivity check for Adjacency List\n",
    "def is_connected_adjlist(graph):\n",
    "    \"\"\"\n",
    "    Check if a graph (represented as an adjacency list) is connected.\n",
    "    \"\"\"\n",
    "    visited = set()  # Set to track visited nodes\n",
    "    queue = deque()  # Queue for BFS traversal\n",
    "\n",
    "    # Start BFS from an arbitrary node\n",
    "    start = list(graph.keys())[0]  # Select the first node\n",
    "    queue.append(start)\n",
    "    visited.add(start)\n",
    "\n",
    "    # Perform BFS\n",
    "    while queue:\n",
    "        current = queue.popleft()\n",
    "        for neighbor in graph[current]:\n",
    "            if neighbor not in visited:\n",
    "                visited.add(neighbor)\n",
    "                queue.append(neighbor)\n",
    "\n",
    "    # Check if all nodes were visited\n",
    "    return len(visited) == len(graph)\n",
    "\n",
    "\n",
    "# Connectivity check for Adjacency Matrix\n",
    "def is_connected_adjmat(matrix):\n",
    "    \"\"\"\n",
    "    Check if a graph (represented as an adjacency matrix) is connected.\n",
    "    \"\"\"\n",
    "    n = len(matrix)  # Number of nodes in the matrix\n",
    "    visited = set()  # Set to track visited nodes\n",
    "    queue = deque()  # Queue for BFS traversal\n",
    "\n",
    "    # Start BFS from the first node (index 0)\n",
    "    start = 0\n",
    "    queue.append(start)\n",
    "    visited.add(start)\n",
    "\n",
    "    # Perform BFS\n",
    "    while queue:\n",
    "        current = queue.popleft()\n",
    "        for neighbor in range(n):\n",
    "            if matrix[current][neighbor] == 1 and neighbor not in visited:\n",
    "                visited.add(neighbor)\n",
    "                queue.append(neighbor)\n",
    "\n",
    "    # Check if all nodes were visited\n",
    "    return len(visited) == n\n",
    "\n",
    "\n",
    "connected_graph_adjlist = {\n",
    "        0: [1, 2],\n",
    "        1: [0, 2],\n",
    "        2: [0, 1, 3],\n",
    "        3: [2]\n",
    "    }\n",
    "disconnected_graph_adjlist = {\n",
    "        0: [1],\n",
    "        1: [0],\n",
    "        2: [3],\n",
    "        3: [2]\n",
    "    }\n",
    "print(\"Adjacency List:\")\n",
    "print(\"Is connected_graph_adjlist connected?\", is_connected_adjlist(connected_graph_adjlist))  # Output: True\n",
    "print(\"Is disconnected_graph_adjlist connected?\", is_connected_adjlist(disconnected_graph_adjlist))  # Output: False\n",
    "\n",
    "# Adjacency Matrix examples\n",
    "connected_graph_adjmat = [\n",
    "        [0, 1, 1, 0],\n",
    "        [1, 0, 1, 0],\n",
    "        [1, 1, 0, 1],\n",
    "        [0, 0, 1, 0]\n",
    "    ]\n",
    "\n",
    "disconnected_graph_adjmat = [\n",
    "        [0, 1, 0, 0],\n",
    "        [1, 0, 0, 0],\n",
    "        [0, 0, 0, 1],\n",
    "        [0, 0, 1, 0]\n",
    "    ]\n",
    "\n",
    "print(\"\\nAdjacency Matrix:\")\n",
    "print(\"Is connected_graph_adjmat connected?\", is_connected_adjmat(connected_graph_adjmat))  # Output: True\n",
    "print(\"Is disconnected_graph_adjmat connected?\", is_connected_adjmat(disconnected_graph_adjmat))  # Output: False"
   ]
  },
  {
   "cell_type": "markdown",
   "id": "0b31371f",
   "metadata": {},
   "source": [
    "## 5. Check if a graph is connected"
   ]
  },
  {
   "cell_type": "markdown",
   "id": "15656b71",
   "metadata": {},
   "source": [
    "### 🔰 Example Run\n",
    "Here's a simple example using both edge list and adjacency list:"
   ]
  },
  {
   "cell_type": "code",
   "execution_count": 13,
   "id": "c5704236",
   "metadata": {},
   "outputs": [],
   "source": [
    "from collections import deque\n",
    "\n",
    "def is_connected(graph):\n",
    "    # Initialize a set to keep track of visited nodes\n",
    "    visited = set()\n",
    "    # Initialize a queue for Breadth-First Search (BFS)\n",
    "    queue = deque()\n",
    "    \n",
    "    # Start BFS from an arbitrary node (the first node in the graph)\n",
    "    start = list(graph.keys())[0]  # Get the first key from the graph dictionary\n",
    "    queue.append(start)\n",
    "    visited.add(start)\n",
    "    \n",
    "    # Perform BFS traversal\n",
    "    while queue:\n",
    "        current = queue.popleft()  # Dequeue the front element\n",
    "        # Iterate through each neighbor of the current node\n",
    "        for neighbor in graph[current]:\n",
    "            if neighbor not in visited:\n",
    "                visited.add(neighbor)  # Mark the neighbor as visited\n",
    "                queue.append(neighbor)  # Enqueue the neighbor\n",
    "    \n",
    "    # Check if the number of visited nodes is equal to the total number of nodes in the graph\n",
    "    return len(visited) == len(graph)"
   ]
  },
  {
   "cell_type": "markdown",
   "id": "45a254ef",
   "metadata": {},
   "source": []
  },
  {
   "cell_type": "markdown",
   "id": "ea5f6618",
   "metadata": {},
   "source": [
    "## 6. Check if a given sequence is a walk, trail, or path"
   ]
  },
  {
   "cell_type": "markdown",
   "id": "9083173d",
   "metadata": {},
   "source": [
    "### 🔰 Example Run\n",
    "Here's a simple example using both edge list and adjacency list:"
   ]
  },
  {
   "cell_type": "code",
   "execution_count": 14,
   "id": "a5e6f65b",
   "metadata": {},
   "outputs": [],
   "source": [
    "from collections import deque\n",
    "\n",
    "def check_sequence_type(graph, seq):\n",
    "    \"\"\"\n",
    "    Determine the type of sequence in a graph (Path, Trail, or Walk).\n",
    "    \n",
    "    Parameters:\n",
    "        graph (dict): Adjacency list representation of the graph.\n",
    "        seq (list): List of nodes representing the sequence.\n",
    "\n",
    "    Returns:\n",
    "        str: \"Path\", \"Trail\", \"Walk\", or \"None\" depending on the sequence type.\n",
    "    \"\"\"\n",
    "    edges = set()  # Set to keep track of traversed edges\n",
    "    visited_nodes = set()  # Set to keep track of visited nodes\n",
    "    queue = deque(seq)  # Queue to manage traversal in sequence\n",
    "    is_trail = True  # Flag for trail property\n",
    "    is_path = True   # Flag for path property\n",
    "\n",
    "    # BFS-like traversal through the sequence of nodes\n",
    "    while len(queue) > 1:\n",
    "        u, v = queue.popleft(), queue[0]  # Get the current and next node in the sequence\n",
    "\n",
    "        # Check if the edge (u, v) exists in the graph\n",
    "        if v not in graph.get(u, []):\n",
    "            return \"None\"  # If edge does not exist, return \"None\"\n",
    "\n",
    "        # Check if the edge has already been traversed\n",
    "        if (u, v) in edges or (v, u) in edges:\n",
    "            is_trail = False  # If the edge is already traversed, it's not a trail\n",
    "        else:\n",
    "            edges.add((u, v))  # Mark the edge as traversed\n",
    "\n",
    "        # Check if the destination node has already been visited\n",
    "        if v in visited_nodes:\n",
    "            is_path = False  # If the node is revisited, it's not a path\n",
    "\n",
    "        visited_nodes.add(v)  # Mark the destination node as visited\n",
    "\n",
    "    # Determine the type of sequence\n",
    "    if is_path:\n",
    "        return \"Path\"  # All nodes are visited exactly once\n",
    "    elif is_trail:\n",
    "        return \"Trail\"  # Edges are traversed at most once\n",
    "    return \"Walk\"  # Neither path nor trail; general walk\n"
   ]
  },
  {
   "cell_type": "code",
   "execution_count": 15,
   "id": "1c69bcb7",
   "metadata": {},
   "outputs": [
    {
     "name": "stdout",
     "output_type": "stream",
     "text": [
      "Sequence Type (Path): Path\n",
      "Sequence Type (Trail): Path\n",
      "Sequence Type (Walk): Walk\n",
      "Sequence Type (Invalid): None\n"
     ]
    }
   ],
   "source": [
    "# Example graph as an adjacency list\n",
    "graph = {\n",
    "    0: [1, 2],\n",
    "    1: [0, 2, 3],\n",
    "    2: [0, 1, 3],\n",
    "    3: [1, 2]\n",
    "}\n",
    "\n",
    "# Example sequences\n",
    "path_sequence = [0, 1, 3]\n",
    "trail_sequence = [0, 1, 2, 3]\n",
    "walk_sequence = [0, 1, 2, 1, 3]\n",
    "invalid_sequence = [0, 3, 1]  # Edge does not exist in the graph\n",
    "\n",
    "# Check types of sequences\n",
    "print(\"Sequence Type (Path):\", check_sequence_type(graph, path_sequence))  # Output: Path\n",
    "print(\"Sequence Type (Trail):\", check_sequence_type(graph, trail_sequence))  # Output: Trail\n",
    "print(\"Sequence Type (Walk):\", check_sequence_type(graph, walk_sequence))  # Output: Walk\n",
    "print(\"Sequence Type (Invalid):\", check_sequence_type(graph, invalid_sequence))  # Output: None"
   ]
  },
  {
   "cell_type": "markdown",
   "id": "63c2a306",
   "metadata": {},
   "source": [
    "## 7. Check if a graph is a tree"
   ]
  },
  {
   "cell_type": "markdown",
   "id": "3b17fd87",
   "metadata": {},
   "source": [
    "### 🔰 Example Run\n",
    "Here's a simple example using both edge list and adjacency list:"
   ]
  },
  {
   "cell_type": "code",
   "execution_count": 16,
   "id": "3fde956b",
   "metadata": {},
   "outputs": [],
   "source": [
    "from collections import deque\n",
    "\n",
    "def is_tree(graph):\n",
    "    visited = set()  # Set to keep track of visited nodes\n",
    "    parent = {}      # Dictionary to store the parent of each node\n",
    "    queue = deque()  # Initialize a queue for Breadth-First Search (BFS)\n",
    "\n",
    "    # Start BFS from an arbitrary node (the first node in the graph)\n",
    "    start = list(graph.keys())[0]  # Get the first node\n",
    "    queue.append(start)\n",
    "    visited.add(start)\n",
    "    parent[start] = -1  # Set parent of root node to -1 (no parent)\n",
    "\n",
    "    while queue:\n",
    "        current = queue.popleft()  # Dequeue the front element\n",
    "        \n",
    "        # Iterate through each neighbor of the current node\n",
    "        for neighbor in graph[current]:\n",
    "            if neighbor not in visited:  # If the neighbor has not been visited\n",
    "                visited.add(neighbor)   # Mark the neighbor as visited\n",
    "                parent[neighbor] = current  # Set the parent of the neighbor\n",
    "                queue.append(neighbor)  # Enqueue the neighbor\n",
    "            # If the neighbor is already visited and is not the parent of the current node, a cycle exists\n",
    "            elif parent[current] != neighbor:\n",
    "                return False  # Cycle detected\n",
    "\n",
    "    # Check if all nodes were visited (the graph is connected)\n",
    "    return len(visited) == len(graph)  # Return True if the graph is connected and has no cycles"
   ]
  },
  {
   "cell_type": "markdown",
   "id": "663da8c5",
   "metadata": {},
   "source": [
    "## 8. Find a spanning tree (DFS-based)"
   ]
  },
  {
   "cell_type": "markdown",
   "id": "95f990cf",
   "metadata": {},
   "source": [
    "### 🔰 Example Run\n",
    "Here's a simple example using both edge list and adjacency list:"
   ]
  },
  {
   "cell_type": "code",
   "execution_count": 17,
   "id": "526bc251",
   "metadata": {},
   "outputs": [
    {
     "name": "stdout",
     "output_type": "stream",
     "text": [
      "Spanning Tree (Adjacency List): [(0, 1), (1, 3), (1, 4), (4, 2)]\n"
     ]
    }
   ],
   "source": [
    "def dfs(adj_list, v, visited, spanning_tree):\n",
    "    visited[v] = True\n",
    "    for neighbor in adj_list[v]:\n",
    "        if not visited[neighbor]:\n",
    "            spanning_tree.append((v, neighbor))  # Add edge to spanning tree\n",
    "            dfs(adj_list, neighbor, visited, spanning_tree)\n",
    "\n",
    "def find_spanning_tree_adj_list(vertices, edges):\n",
    "    # Create adjacency list\n",
    "    adj_list = [[] for _ in range(vertices)]\n",
    "    for u, v in edges:\n",
    "        adj_list[u].append(v)\n",
    "        adj_list[v].append(u)  # For undirected graph\n",
    "\n",
    "    visited = [False] * vertices\n",
    "    spanning_tree = []\n",
    "    # Start DFS from the first vertex (0)\n",
    "    dfs(adj_list, 0, visited, spanning_tree)\n",
    "    return spanning_tree\n",
    "\n",
    "# Example usage\n",
    "vertices = 5\n",
    "edges = [(0, 1), (0, 2), (1, 3), (1, 4), (2, 4)]\n",
    "spanning_tree = find_spanning_tree_adj_list(vertices, edges)\n",
    "print(\"Spanning Tree (Adjacency List):\", spanning_tree)"
   ]
  },
  {
   "cell_type": "code",
   "execution_count": 18,
   "id": "a8f8863d",
   "metadata": {},
   "outputs": [
    {
     "name": "stdout",
     "output_type": "stream",
     "text": [
      "Spanning Tree (Adjacency Matrix): [(0, 1), (1, 3), (1, 4), (4, 2)]\n"
     ]
    }
   ],
   "source": [
    "def dfs_matrix(adj_matrix, v, visited, spanning_tree):\n",
    "    visited[v] = True\n",
    "    for neighbor in range(len(adj_matrix)):\n",
    "        if adj_matrix[v][neighbor] == 1 and not visited[neighbor]:\n",
    "            spanning_tree.append((v, neighbor))  # Add edge to spanning tree\n",
    "            dfs_matrix(adj_matrix, neighbor, visited, spanning_tree)\n",
    "\n",
    "def find_spanning_tree_adj_matrix(vertices, edges):\n",
    "    # Create adjacency matrix\n",
    "    adj_matrix = [[0] * vertices for _ in range(vertices)]\n",
    "    for u, v in edges:\n",
    "        adj_matrix[u][v] = 1\n",
    "        adj_matrix[v][u] = 1  # For undirected graph\n",
    "\n",
    "    visited = [False] * vertices\n",
    "    spanning_tree = []\n",
    "    # Start DFS from the first vertex (0)\n",
    "    dfs_matrix(adj_matrix, 0, visited, spanning_tree)\n",
    "    return spanning_tree\n",
    "\n",
    "# Example usage\n",
    "vertices_matrix = 5\n",
    "edges_matrix = [(0, 1), (0, 2), (1, 3), (1, 4), (2, 4)]\n",
    "spanning_tree_matrix = find_spanning_tree_adj_matrix(vertices_matrix, edges_matrix)\n",
    "print(\"Spanning Tree (Adjacency Matrix):\", spanning_tree_matrix)"
   ]
  },
  {
   "cell_type": "markdown",
   "id": "1bacfd3e",
   "metadata": {},
   "source": [
    "## 9. Count number of leaf nodes in a tree"
   ]
  },
  {
   "cell_type": "markdown",
   "id": "b6073375",
   "metadata": {},
   "source": [
    "### 🔰 Example Run\n",
    "Here's a simple example using both edge list and adjacency list:"
   ]
  },
  {
   "cell_type": "code",
   "execution_count": 19,
   "id": "96ad8b33",
   "metadata": {},
   "outputs": [
    {
     "name": "stdout",
     "output_type": "stream",
     "text": [
      "Number of leaf nodes: 3\n"
     ]
    }
   ],
   "source": [
    "# Sample tree (Adjacency List)\n",
    "tree = {\n",
    "    0: [1, 2],\n",
    "    1: [0, 3, 4],\n",
    "    2: [0],\n",
    "    3: [1],\n",
    "    4: [1]\n",
    "}\n",
    "\n",
    "# Recursive function to count leaf nodes\n",
    "def count_leaf_nodes_adj_list(tree, node, parent):\n",
    "    is_leaf = True\n",
    "    count = 0\n",
    "    i = 0\n",
    "\n",
    "    while i < len(tree[node]):\n",
    "        child = tree[node][i]\n",
    "        if child != parent:\n",
    "            is_leaf = False\n",
    "            count += count_leaf_nodes_adj_list(tree, child, node)\n",
    "        i += 1\n",
    "\n",
    "    if is_leaf:\n",
    "        return 1  # current node is a leaf\n",
    "    return count\n",
    "\n",
    "# Usage\n",
    "leaf_count = count_leaf_nodes_adj_list(tree, 0, -1)\n",
    "print(\"Number of leaf nodes:\", leaf_count)\n"
   ]
  },
  {
   "cell_type": "code",
   "execution_count": 20,
   "id": "7da8473e",
   "metadata": {},
   "outputs": [
    {
     "name": "stdout",
     "output_type": "stream",
     "text": [
      "Number of leaf nodes: 3\n"
     ]
    }
   ],
   "source": [
    "# Sample tree (Adjacency Matrix)\n",
    "adj_matrix = [\n",
    "    [0, 1, 1, 0, 0],  # 0\n",
    "    [1, 0, 0, 1, 1],  # 1\n",
    "    [1, 0, 0, 0, 0],  # 2\n",
    "    [0, 1, 0, 0, 0],  # 3\n",
    "    [0, 1, 0, 0, 0]   # 4\n",
    "]\n",
    "\n",
    "# Recursive function to count leaf nodes from adjacency matrix\n",
    "def count_leaf_nodes_adj_matrix(matrix, node, parent):\n",
    "    total_nodes = len(matrix)\n",
    "    is_leaf = True\n",
    "    count = 0\n",
    "\n",
    "    index = 0\n",
    "    while index < total_nodes:\n",
    "        if matrix[node][index] == 1 and index != parent:\n",
    "            is_leaf = False\n",
    "            count += count_leaf_nodes_adj_matrix(matrix, index, node)\n",
    "        index += 1\n",
    "\n",
    "    if is_leaf:\n",
    "        return 1\n",
    "    return count\n",
    "\n",
    "# Usage\n",
    "leaf_count = count_leaf_nodes_adj_matrix(adj_matrix, 0, -1)\n",
    "print(\"Number of leaf nodes:\", leaf_count)\n"
   ]
  },
  {
   "cell_type": "markdown",
   "id": "0159f5dd",
   "metadata": {},
   "source": [
    "## 10. Check if a tree is a binary tree"
   ]
  },
  {
   "cell_type": "markdown",
   "id": "6bdce24f",
   "metadata": {},
   "source": [
    "### 🔰 Example Run\n",
    "Here's a simple example using both edge list and adjacency list:"
   ]
  },
  {
   "cell_type": "code",
   "execution_count": 21,
   "id": "26a0d43e",
   "metadata": {},
   "outputs": [
    {
     "name": "stdout",
     "output_type": "stream",
     "text": [
      "The given tree is a valid binary tree.\n"
     ]
    }
   ],
   "source": [
    "# Sample tree (adjacency list format)\n",
    "# This tree is a valid binary tree\n",
    "tree = {\n",
    "    0: [1, 2],\n",
    "    1: [0, 3, 4],\n",
    "    2: [0],\n",
    "    3: [1],\n",
    "    4: [1]\n",
    "}\n",
    "\n",
    "# Function to check if the graph is a tree and a binary tree\n",
    "def is_binary_tree(tree, node, parent, visited):\n",
    "    visited[node] = 1\n",
    "\n",
    "    child_count = 0  # count actual children (excluding parent)\n",
    "    i = 0\n",
    "    while i < len(tree[node]):\n",
    "        child = tree[node][i]\n",
    "\n",
    "        if child == parent:\n",
    "            i += 1\n",
    "            continue\n",
    "\n",
    "        child_count += 1\n",
    "\n",
    "        if visited[child] == 1:\n",
    "            # If the child is already visited, then cycle exists\n",
    "            return False\n",
    "\n",
    "        # Recursively check the subtree\n",
    "        if not is_binary_tree(tree, child, node, visited):\n",
    "            return False\n",
    "\n",
    "        i += 1\n",
    "\n",
    "    # A binary tree can have at most 2 children per node\n",
    "    if child_count > 2:\n",
    "        return False\n",
    "\n",
    "    return True\n",
    "\n",
    "# Main logic\n",
    "def check_binary_tree(tree):\n",
    "    n = 0\n",
    "    for key in tree:\n",
    "        if key > n:\n",
    "            n = key\n",
    "    n = n + 1  # total number of nodes\n",
    "\n",
    "    visited = {}\n",
    "    i = 0\n",
    "    while i < n:\n",
    "        visited[i] = 0\n",
    "        i += 1\n",
    "\n",
    "    # Start DFS from node 0\n",
    "    if not is_binary_tree(tree, 0, -1, visited):\n",
    "        return False\n",
    "\n",
    "    # Check if all nodes were visited (i.e., tree is connected)\n",
    "    for key in visited:\n",
    "        if visited[key] == 0:\n",
    "            return False\n",
    "\n",
    "    return True\n",
    "\n",
    "# Example usage\n",
    "if check_binary_tree(tree):\n",
    "    print(\"The given tree is a valid binary tree.\")\n",
    "else:\n",
    "    print(\"The given tree is NOT a valid binary tree.\")\n"
   ]
  },
  {
   "cell_type": "code",
   "execution_count": 22,
   "id": "cad75214",
   "metadata": {},
   "outputs": [],
   "source": [
    "# Function to check if a given tree is a binary tree\n",
    "def is_binary_tree(tree):\n",
    "    # Iterate through each node in the tree\n",
    "    for node in tree:\n",
    "        # Check if the current node has more than 2 children\n",
    "        if len(tree[node]) > 2:\n",
    "            return False  # If it does, return False (not a binary tree)\n",
    "    return True  # If all nodes have 2 or fewer children, return True (it is a binary tree)"
   ]
  },
  {
   "cell_type": "markdown",
   "id": "f709c548",
   "metadata": {},
   "source": [
    "## 11. Find height of a tree (basic recursive)"
   ]
  },
  {
   "cell_type": "markdown",
   "id": "d533a260",
   "metadata": {},
   "source": [
    "### 🔰 Example Run\n",
    "Here's a simple example using both edge list and adjacency list:"
   ]
  },
  {
   "cell_type": "code",
   "execution_count": 23,
   "id": "69b38a88",
   "metadata": {},
   "outputs": [
    {
     "name": "stdout",
     "output_type": "stream",
     "text": [
      "Height of the tree: 3\n"
     ]
    }
   ],
   "source": [
    "# Sample tree (undirected), represented using an adjacency list\n",
    "# The tree is assumed to be rooted at node 0\n",
    "tree = {\n",
    "    0: [1, 2],\n",
    "    1: [0, 3, 4],\n",
    "    2: [0],\n",
    "    3: [1],\n",
    "    4: [1]\n",
    "}\n",
    "\n",
    "# Function to compute the height of the tree from a given root\n",
    "def find_height(tree, node, parent):\n",
    "    # Initially, the maximum height from this node is 0\n",
    "    max_height = 0\n",
    "\n",
    "    # Traverse all connected nodes (children)\n",
    "    for child in tree[node]:\n",
    "        # Avoid visiting the parent again to prevent infinite loop\n",
    "        if child != parent:\n",
    "            # Recursively find the height from the child node\n",
    "            child_height = find_height(tree, child, node)\n",
    "\n",
    "            # Update the maximum height if this child's height is greater\n",
    "            if child_height > max_height:\n",
    "                max_height = child_height\n",
    "\n",
    "    # Return the height of the current node (1 + max of children)\n",
    "    return max_height + 1\n",
    "\n",
    "# Choose the root node (commonly 0)\n",
    "root = 0\n",
    "\n",
    "# Call the function with the tree, root, and no parent (-1)\n",
    "height = find_height(tree, root, -1)\n",
    "\n",
    "# Print the final height of the tree\n",
    "print(\"Height of the tree:\", height)\n"
   ]
  },
  {
   "cell_type": "code",
   "execution_count": 24,
   "id": "d199cf0b",
   "metadata": {},
   "outputs": [
    {
     "name": "stdout",
     "output_type": "stream",
     "text": [
      "Height of the tree: 3\n"
     ]
    }
   ],
   "source": [
    "\n",
    "adj_matrix = [\n",
    "    [0, 1, 1, 0, 0],  # Node 0\n",
    "    [1, 0, 0, 1, 1],  # Node 1\n",
    "    [1, 0, 0, 0, 0],  # Node 2\n",
    "    [0, 1, 0, 0, 0],  # Node 3\n",
    "    [0, 1, 0, 0, 0]   # Node 4\n",
    "]\n",
    "\n",
    "# Recursive function to find height\n",
    "def find_height_matrix(matrix, node, parent):\n",
    "    max_height = 0\n",
    "    total_nodes = len(matrix)\n",
    "\n",
    "    # Check all possible nodes to find children\n",
    "    index = 0\n",
    "    while index < total_nodes:\n",
    "        # If connected and not revisiting parent\n",
    "        if matrix[node][index] == 1 and index != parent:\n",
    "            child_height = find_height_matrix(matrix, index, node)\n",
    "            if child_height > max_height:\n",
    "                max_height = child_height\n",
    "        index += 1\n",
    "\n",
    "    return max_height + 1  # +1 for the current node\n",
    "\n",
    "# Start from root node 0\n",
    "root = 0\n",
    "height = find_height_matrix(adj_matrix, root, -1)\n",
    "\n",
    "print(\"Height of the tree:\", height)\n"
   ]
  },
  {
   "cell_type": "markdown",
   "id": "79e4ebc4",
   "metadata": {},
   "source": [
    "## 12. Find depth of a node in tree (basic recursive)"
   ]
  },
  {
   "cell_type": "markdown",
   "id": "01871d9b",
   "metadata": {},
   "source": [
    "### 🔰 Example Run\n",
    "Here's a simple example using both edge list and adjacency list:"
   ]
  },
  {
   "cell_type": "code",
   "execution_count": 25,
   "id": "88665176",
   "metadata": {},
   "outputs": [
    {
     "name": "stdout",
     "output_type": "stream",
     "text": [
      "Depth of node 4 is: 2\n"
     ]
    }
   ],
   "source": [
    "# Sample tree in adjacency list format\n",
    "tree = {\n",
    "    0: [1, 2],\n",
    "    1: [0, 3, 4],\n",
    "    2: [0],\n",
    "    3: [1],\n",
    "    4: [1]\n",
    "}\n",
    "\n",
    "# Recursive function to find depth of a target node\n",
    "def find_depth_adj_list(tree, node, parent, target, depth):\n",
    "    if node == target:\n",
    "        return depth\n",
    "\n",
    "    i = 0\n",
    "    while i < len(tree[node]):\n",
    "        child = tree[node][i]\n",
    "        if child != parent:\n",
    "            result = find_depth_adj_list(tree, child, node, target, depth + 1)\n",
    "            if result != -1:\n",
    "                return result\n",
    "        i += 1\n",
    "\n",
    "    return -1  # Target not found in this path\n",
    "\n",
    "# Example usage\n",
    "target_node = 4\n",
    "root = 0\n",
    "depth = find_depth_adj_list(tree, root, -1, target_node, 0)\n",
    "print(\"Depth of node\", target_node, \"is:\", depth)\n"
   ]
  },
  {
   "cell_type": "code",
   "execution_count": 26,
   "id": "30bc21c3",
   "metadata": {},
   "outputs": [
    {
     "name": "stdout",
     "output_type": "stream",
     "text": [
      "Depth of node 4 is: 2\n"
     ]
    }
   ],
   "source": [
    "# Sample tree in adjacency matrix format\n",
    "adj_matrix = [\n",
    "    [0, 1, 1, 0, 0],  # 0\n",
    "    [1, 0, 0, 1, 1],  # 1\n",
    "    [1, 0, 0, 0, 0],  # 2\n",
    "    [0, 1, 0, 0, 0],  # 3\n",
    "    [0, 1, 0, 0, 0]   # 4\n",
    "]\n",
    "\n",
    "# Recursive function to find depth from adjacency matrix\n",
    "def find_depth_adj_matrix(matrix, node, parent, target, depth):\n",
    "    if node == target:\n",
    "        return depth\n",
    "\n",
    "    index = 0\n",
    "    while index < len(matrix):\n",
    "        if matrix[node][index] == 1 and index != parent:\n",
    "            result = find_depth_adj_matrix(matrix, index, node, target, depth + 1)\n",
    "            if result != -1:\n",
    "                return result\n",
    "        index += 1\n",
    "\n",
    "    return -1  # Target not found\n",
    "\n",
    "# Example usage\n",
    "target_node = 4\n",
    "root = 0\n",
    "depth = find_depth_adj_matrix(adj_matrix, root, -1, target_node, 0)\n",
    "print(\"Depth of node\", target_node, \"is:\", depth)\n"
   ]
  }
 ],
 "metadata": {
  "kernelspec": {
   "display_name": "Python 3",
   "language": "python",
   "name": "python3"
  },
  "language_info": {
   "codemirror_mode": {
    "name": "ipython",
    "version": 3
   },
   "file_extension": ".py",
   "mimetype": "text/x-python",
   "name": "python",
   "nbconvert_exporter": "python",
   "pygments_lexer": "ipython3",
   "version": "3.13.1"
  }
 },
 "nbformat": 4,
 "nbformat_minor": 5
}
